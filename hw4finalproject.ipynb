{
 "cells": [
  {
   "cell_type": "code",
   "execution_count": 61,
   "id": "835f5795-e657-4eb4-9bf0-95afbad977e1",
   "metadata": {},
   "outputs": [
    {
     "name": "stdout",
     "output_type": "stream",
     "text": [
      "/Users/bayowaonabajo\n"
     ]
    }
   ],
   "source": [
    "import os\n",
    "print(os.getcwd())  \n"
   ]
  },
  {
   "cell_type": "code",
   "execution_count": 63,
   "id": "0ee66621-5c8b-47d1-9896-32c97a0898ec",
   "metadata": {},
   "outputs": [
    {
     "name": "stdout",
     "output_type": "stream",
     "text": [
      "['Untitled10.ipynb', '.Rhistory', 'Untitled7.ipynb', 'homework-hw1', '.Renviron', '.config', 'Music', '.condarc', 'Bayowa_hw2', 'Untitled5.ipynb', 'Untitled1.ipynb', '.DS_Store', 'untitled1.py', '.CFUserTextEncoding', 'pm25helper.py', '.xonshrc', 'Untitled3.ipynb', 'Untitled.ipynb', 'untitled.md', '.zshrc', 'Untitled4.ipynb', '.local', 'Untitled6.ipynb', 'Pictures', 'f24_data203', '.zprofile', 'mystats.py', '.zsh_history', 'Untitled2.ipynb', '.ipython', 'Desktop', 'Library', '.matplotlib', '__pycache__', '.lesshst', 'Bayowa_hw2.txt', 'file1.ipynb', 'README.md', 'untitled.txt', 'Public', '.gitignore', '.idlerc', 'untitled1.txt', '.tcshrc', '.RData', '.virtual_documents', '.anaconda', 'sql_eng_mang_data_interactive_learn_quiz_project', 'Untitled8.ipynb', '.ssh', 'Movies', 'sample', '.Rapp.history', 'hw4finalproject.ipynb', '.Trash', '.ipynb_checkpoints', '.jupyter', '.Renviron_backup', 'Documents', 'file2.ipynb', 'untitled2.py', '.mysql_history', '.git', '.bash_profile', '.Xauthority', 'data', 'Downloads', 'Bayowa_hw3 (1).ipynb', '.continuum', '.cache', '.gitconfig', 'Untitled9.ipynb', 'helpers', 'untitled.py', '.bash_history', '.viminfo', '.zsh_sessions', 'bayonotebook.ipynb', '.conda', 'untitled3.py']\n"
     ]
    }
   ],
   "source": [
    "import os\n",
    "print(os.listdir())  #files in the current working directory\n"
   ]
  },
  {
   "cell_type": "markdown",
   "id": "7ee03b99-ec5f-4505-b0f5-d4eb44457520",
   "metadata": {},
   "source": [
    "# HW4 001"
   ]
  },
  {
   "cell_type": "code",
   "execution_count": 2,
   "id": "fd8bf54e-329e-48be-a5cb-0e6b885d75ee",
   "metadata": {},
   "outputs": [],
   "source": [
    "from helpers import pm25helper\n",
    "\n"
   ]
  },
  {
   "cell_type": "markdown",
   "id": "34b396a5-d3f4-48f2-aeec-6604c5ad420d",
   "metadata": {},
   "source": [
    "\n",
    "\n"
   ]
  },
  {
   "cell_type": "code",
   "execution_count": 27,
   "id": "8cc8e90e-3f86-4345-9592-b357e225df08",
   "metadata": {},
   "outputs": [
    {
     "name": "stdout",
     "output_type": "stream",
     "text": [
      "Successfully imported pm25helper\n"
     ]
    }
   ],
   "source": [
    "import pandas as pd\n",
    "from helpers import pm25helper # Import from local file\n",
    "from datetime import timedelta\n",
    "import glob\n",
    "\n",
    "\n",
    "print(\"Successfully imported pm25helper\")\n"
   ]
  },
  {
   "cell_type": "code",
   "execution_count": 29,
   "id": "0f315e70-6b35-4cbb-9d4b-637c918afa2d",
   "metadata": {
    "scrolled": true
   },
   "outputs": [
    {
     "data": {
      "text/html": [
       "<div>\n",
       "<style scoped>\n",
       "    .dataframe tbody tr th:only-of-type {\n",
       "        vertical-align: middle;\n",
       "    }\n",
       "\n",
       "    .dataframe tbody tr th {\n",
       "        vertical-align: top;\n",
       "    }\n",
       "\n",
       "    .dataframe thead th {\n",
       "        text-align: right;\n",
       "    }\n",
       "</style>\n",
       "<table border=\"1\" class=\"dataframe\">\n",
       "  <thead>\n",
       "    <tr style=\"text-align: right;\">\n",
       "      <th></th>\n",
       "      <th>Baton Rouge</th>\n",
       "      <th>Alexandria</th>\n",
       "      <th>Lake Charles</th>\n",
       "      <th>Lafayette</th>\n",
       "      <th>Monroe</th>\n",
       "      <th>New Orleans</th>\n",
       "      <th>Shreveport</th>\n",
       "      <th>Thibodaux</th>\n",
       "    </tr>\n",
       "  </thead>\n",
       "  <tbody>\n",
       "    <tr>\n",
       "      <th>2024-09-15</th>\n",
       "      <td>50</td>\n",
       "      <td>50</td>\n",
       "      <td>44</td>\n",
       "      <td>50</td>\n",
       "      <td>44</td>\n",
       "      <td>50</td>\n",
       "      <td>53</td>\n",
       "      <td>44</td>\n",
       "    </tr>\n",
       "    <tr>\n",
       "      <th>2024-09-16</th>\n",
       "      <td>44</td>\n",
       "      <td>44</td>\n",
       "      <td>39</td>\n",
       "      <td>44</td>\n",
       "      <td>44</td>\n",
       "      <td>44</td>\n",
       "      <td>50</td>\n",
       "      <td>39</td>\n",
       "    </tr>\n",
       "    <tr>\n",
       "      <th>2024-10-07</th>\n",
       "      <td>53</td>\n",
       "      <td>53</td>\n",
       "      <td>53</td>\n",
       "      <td>55</td>\n",
       "      <td>55</td>\n",
       "      <td>50</td>\n",
       "      <td>58</td>\n",
       "      <td>50</td>\n",
       "    </tr>\n",
       "    <tr>\n",
       "      <th>2024-10-08</th>\n",
       "      <td>55</td>\n",
       "      <td>53</td>\n",
       "      <td>53</td>\n",
       "      <td>53</td>\n",
       "      <td>53</td>\n",
       "      <td>53</td>\n",
       "      <td>56</td>\n",
       "      <td>53</td>\n",
       "    </tr>\n",
       "    <tr>\n",
       "      <th>2024-10-09</th>\n",
       "      <td>53</td>\n",
       "      <td>50</td>\n",
       "      <td>50</td>\n",
       "      <td>53</td>\n",
       "      <td>50</td>\n",
       "      <td>53</td>\n",
       "      <td>53</td>\n",
       "      <td>53</td>\n",
       "    </tr>\n",
       "  </tbody>\n",
       "</table>\n",
       "</div>"
      ],
      "text/plain": [
       "0           Baton Rouge  Alexandria  Lake Charles  Lafayette  Monroe  \\\n",
       "2024-09-15           50          50            44         50      44   \n",
       "2024-09-16           44          44            39         44      44   \n",
       "2024-10-07           53          53            53         55      55   \n",
       "2024-10-08           55          53            53         53      53   \n",
       "2024-10-09           53          50            50         53      50   \n",
       "\n",
       "0           New Orleans  Shreveport  Thibodaux  \n",
       "2024-09-15           50          53         44  \n",
       "2024-09-16           44          50         39  \n",
       "2024-10-07           50          58         50  \n",
       "2024-10-08           53          56         53  \n",
       "2024-10-09           53          53         53  "
      ]
     },
     "execution_count": 29,
     "metadata": {},
     "output_type": "execute_result"
    }
   ],
   "source": [
    "df = pd.DataFrame()\n",
    "\n",
    "for f in glob.glob(\"sample/*.html\"):\n",
    "    start_dt, d = pm25helper.get_ladeq_pm25_data(f)\n",
    "    \n",
    "    df_tmp = pd.DataFrame(d).set_index(0)\n",
    "    df_tmp.columns = [(start_dt+timedelta(i)).strftime(\"%Y-%m-%d\") for i in range(0,3)]\n",
    "\n",
    "    df = pd.concat([df, df_tmp], axis=1)\n",
    "\n",
    "df = df.T.sort_index()\n",
    "df.to_csv(\"data/mossville_ldeq_cc_forecast_archives.csv\")\n",
    "df.head()\n",
    "df.tail()"
   ]
  },
  {
   "cell_type": "code",
   "execution_count": 31,
   "id": "63ce4c97-caca-4dc9-aa86-f9e7c82c72c7",
   "metadata": {},
   "outputs": [
    {
     "name": "stdout",
     "output_type": "stream",
     "text": [
      "['sample/CC-MAIN-2024-33_https:__airquality.deq.louisiana.gov_Forecast.html', 'sample/CC-MAIN-2024-30_https:__airquality.deq.louisiana.gov_Forecast.html', 'sample/CC-MAIN-2024-18_https:__airquality.deq.louisiana.gov_Forecast.html', 'sample/CC-MAIN-2024-42_https:__airquality.deq.louisiana.gov_Forecast.html', 'sample/CC-MAIN-2024-22_https:__airquality.deq.louisiana.gov_Forecast.html', 'sample/CC-MAIN-2024-10_https:__airquality.deq.louisiana.gov_Forecast.html', 'sample/CC-MAIN-2024-38_https:__airquality.deq.louisiana.gov_Forecast.html', 'sample/CC-MAIN-2024-26_https:__airquality.deq.louisiana.gov_Forecast.html']\n"
     ]
    }
   ],
   "source": [
    "import glob\n",
    "print(glob.glob(\"sample/*.html\"))\n"
   ]
  },
  {
   "cell_type": "markdown",
   "id": "898696a7-0ef5-4fa5-a6cd-8190a88fa871",
   "metadata": {},
   "source": [
    "# Answer #1.\n",
    "## What the cell above does:\n",
    "The provided cell extracts and organizes PM2.5 data from HTML files into a structured format which could be dataframe or table.\n",
    "The code searches for all HTML files in the \"sample/\" directory with the function glob.glob(\"sample/*.html\").\n",
    "For each file, the function pm25helper.get_ladeq_pm25_data(f) is used to identify the forecast start date from the HTML file, extract PM2.5 pollution data for multiple locations and days.\n",
    "Each file's extracted data is temporarily stored in a DataFrame as \"df_tmp\", where rows correspond to different locations e.g., cities and columns correspond to dates, starting from the forecast start date.\n",
    "The temporary DataFrame \"df_tmp\" is appended to a master DataFrame \"df\" using function pd.concat(). This process repeats for all HTML files, combining data from multiple files into one large DataFrame.\n",
    "The combined DataFrame is transposed \"df.T\" and sorted by date to make it easier to analyze.\n",
    "The final data is saved as a CSV file (\"data/mossville_ldeq_cc_forecast_archives.csv\") for future use. \n",
    "In summary, it opens each file before reading the table for all cities and their pollution levels.It then adds all the tables together into a bigger table where each column is a city, and each row is a day and saves the bigger table into a new file so you we can use it later."
   ]
  },
  {
   "cell_type": "code",
   "execution_count": 34,
   "id": "3b375926-27ea-4ba9-a188-40f849f4a85f",
   "metadata": {},
   "outputs": [
    {
     "data": {
      "text/plain": [
       "2024-02-23    29\n",
       "2024-02-24    25\n",
       "2024-02-25    38\n",
       "2024-04-17    42\n",
       "2024-04-18    46\n",
       "2024-04-19    42\n",
       "2024-05-26    53\n",
       "2024-05-27    50\n",
       "2024-05-28    44\n",
       "2024-06-13    53\n",
       "2024-06-14    55\n",
       "2024-06-15    53\n",
       "2024-07-13    58\n",
       "2024-07-14    66\n",
       "2024-07-15    58\n",
       "2024-08-05    56\n",
       "2024-08-06    55\n",
       "2024-08-07    58\n",
       "2024-09-14    50\n",
       "2024-09-15    44\n",
       "2024-09-16    44\n",
       "2024-10-07    55\n",
       "2024-10-08    53\n",
       "2024-10-09    50\n",
       "Name: Monroe, dtype: int64"
      ]
     },
     "execution_count": 34,
     "metadata": {},
     "output_type": "execute_result"
    }
   ],
   "source": [
    "df['Monroe']"
   ]
  },
  {
   "cell_type": "markdown",
   "id": "3c033ce1-ba13-43ee-8228-b23dcf6cb8b3",
   "metadata": {},
   "source": [
    "# Answer 2.\n",
    "## What df[monroe] does.\n",
    "The command df'Monroe' extracts all the PM2.5 readings specifically for the city of Monroe from the DataFrame and it outputs the data as a series, where the index represents the dates, and the values correspond to the PM2.5 readings for Monroe."
   ]
  },
  {
   "cell_type": "markdown",
   "id": "7189d6f1-18a8-44a2-bbf3-e8dddf6ffd60",
   "metadata": {},
   "source": [
    "# Answer 3.\n",
    "The highest PM2.5 readings:"
   ]
  },
  {
   "cell_type": "code",
   "execution_count": 38,
   "id": "42b5c0af-c1a7-4082-881f-1ae2654647d2",
   "metadata": {},
   "outputs": [
    {
     "data": {
      "text/plain": [
       "0\n",
       "Baton Rouge     75\n",
       "Alexandria      69\n",
       "Lake Charles    69\n",
       "Lafayette       68\n",
       "Monroe          66\n",
       "New Orleans     77\n",
       "Shreveport      75\n",
       "Thibodaux       77\n",
       "dtype: int64"
      ]
     },
     "execution_count": 38,
     "metadata": {},
     "output_type": "execute_result"
    }
   ],
   "source": [
    "highest_pm25 = df.max()\n",
    "highest_pm25\n"
   ]
  },
  {
   "cell_type": "markdown",
   "id": "029fa932-2376-4f04-bc24-5d734b1dea85",
   "metadata": {},
   "source": [
    "# Answer 4.\n",
    "Lake charles is the closest to mossville geographically so the code below will retrieve all ldeq data on it."
   ]
  },
  {
   "cell_type": "code",
   "execution_count": 41,
   "id": "67fc473e-cec1-44ad-b03a-442b937645d9",
   "metadata": {},
   "outputs": [
    {
     "data": {
      "text/plain": [
       "2024-02-23    53\n",
       "2024-02-24    50\n",
       "2024-02-25    55\n",
       "2024-04-17    50\n",
       "2024-04-18    53\n",
       "2024-04-19    53\n",
       "2024-05-26    60\n",
       "2024-05-27    66\n",
       "2024-05-28    58\n",
       "2024-06-13    55\n",
       "2024-06-14    56\n",
       "2024-06-15    55\n",
       "2024-07-13    69\n",
       "2024-07-14    66\n",
       "2024-07-15    68\n",
       "2024-08-05    55\n",
       "2024-08-06    53\n",
       "2024-08-07    68\n",
       "2024-09-14    39\n",
       "2024-09-15    44\n",
       "2024-09-16    39\n",
       "2024-10-07    53\n",
       "2024-10-08    53\n",
       "2024-10-09    50\n",
       "Name: Lake Charles, dtype: int64"
      ]
     },
     "execution_count": 41,
     "metadata": {},
     "output_type": "execute_result"
    }
   ],
   "source": [
    "lake_charles_data = df['Lake Charles']\n",
    "lake_charles_data\n",
    "\n"
   ]
  },
  {
   "cell_type": "markdown",
   "id": "14d8e06a-3664-4f00-9e3d-ed6040522eb7",
   "metadata": {},
   "source": [
    "# Answer 5.\n",
    "The cities with the highest and lowest AQ means:"
   ]
  },
  {
   "cell_type": "code",
   "execution_count": 44,
   "id": "5c5d4e2f-5540-4f12-9ce3-f4248f363c34",
   "metadata": {},
   "outputs": [
    {
     "data": {
      "text/plain": [
       "('Shreveport', 56.416666666666664, 'Monroe', 49.041666666666664)"
      ]
     },
     "execution_count": 44,
     "metadata": {},
     "output_type": "execute_result"
    }
   ],
   "source": [
    "# Calculate mean PM2.5 readings for each city\n",
    "aq_means = df.mean()\n",
    "\n",
    "# Find the city with the highest and lowest means\n",
    "highest_mean_city = aq_means.idxmax()\n",
    "lowest_mean_city = aq_means.idxmin()\n",
    "\n",
    "highest_mean = aq_means.max()\n",
    "lowest_mean = aq_means.min()\n",
    "\n",
    "highest_mean_city, highest_mean, lowest_mean_city, lowest_mean\n"
   ]
  },
  {
   "cell_type": "markdown",
   "id": "6d59a6e6-83de-493c-8b89-785cceed4937",
   "metadata": {},
   "source": [
    "# Answer 6.\n",
    "Relevance or irrelevance of the above to Mossville:"
   ]
  },
  {
   "cell_type": "markdown",
   "id": "efe76ff6-2d10-4f18-ba97-0395b59bcc37",
   "metadata": {},
   "source": [
    "# Relevance: \n",
    "Lake Charles proximity to Mossville is relevant as its AQ data can serve as a proxy to understand air quality trends in Mossville.\n",
    "Being in the same region, Mossville and Lake Charles likely share similar weather patterns, industrial emissions, and other environmental factors affecting air quality which could all be useful when making analysis and logical inference.\n",
    "\n",
    "# Irrelevance:\n",
    "Mossville might experience specific local air quality issues like emissions from nearby industries that are not captured in Lake Charles data.\n",
    "Regional averages or city data may mask hyper-local variations in AQ that Mossville residents experience which shows lack of granularity.\n",
    "Mossville's historical burden of pollution like legacy of industrial activity might make its air quality uniquely worse compared to nearby cities.\n"
   ]
  },
  {
   "cell_type": "markdown",
   "id": "6e69e052-f416-475d-81cf-b795918021ed",
   "metadata": {},
   "source": [
    "# HW4 002"
   ]
  },
  {
   "cell_type": "markdown",
   "id": "a40cc8d5-de91-441a-8d8d-3fcbe522118f",
   "metadata": {},
   "source": [
    "# ANSWER 1\n",
    "The loop in the cell above does the following\n",
    "It searches in the folder \"/Users/bayowaonabajo/cf_mossville/\" for all files and each file is processed one at a time after which the file path is printed for reference.\n",
    "The data in the file is read using pd.read_csv() into a temporary DataFrame, which uses time_stamp as its index. All the files' data are combined with concatenation (pd.concat) into a single DataFrame \"df\".\n",
    "Finally, the index of the DataFrame \"df\" is converted to datetime format using function pd.to_datetime(), so operations with time values can be done.\n"
   ]
  },
  {
   "cell_type": "code",
   "execution_count": 50,
   "id": "2e47dae8-d6f6-4555-9d37-39d8843dd164",
   "metadata": {},
   "outputs": [],
   "source": [
    "\n",
    "import pandas as pd\n",
    "from   datetime import timedelta\n",
    "import glob\n",
    "\n"
   ]
  },
  {
   "cell_type": "code",
   "execution_count": 52,
   "id": "4931cb69-4f42-4f38-9982-9d9ccce51200",
   "metadata": {},
   "outputs": [
    {
     "name": "stdout",
     "output_type": "stream",
     "text": [
      "/Users/bayowaonabajo/cf_mossville/6.csv\n",
      "/Users/bayowaonabajo/cf_mossville/7.csv\n",
      "/Users/bayowaonabajo/cf_mossville/5.csv\n",
      "/Users/bayowaonabajo/cf_mossville/4.csv\n",
      "/Users/bayowaonabajo/cf_mossville/1.csv\n",
      "/Users/bayowaonabajo/cf_mossville/3.csv\n",
      "/Users/bayowaonabajo/cf_mossville/2.csv\n",
      "/Users/bayowaonabajo/cf_mossville/10.csv\n",
      "/Users/bayowaonabajo/cf_mossville/9.csv\n",
      "/Users/bayowaonabajo/cf_mossville/8.csv\n"
     ]
    },
    {
     "name": "stderr",
     "output_type": "stream",
     "text": [
      "/var/folders/z0/vng18cmj41x80kcsp_9tylwr0000gn/T/ipykernel_8481/170758708.py:4: FutureWarning: The behavior of DataFrame concatenation with empty or all-NA entries is deprecated. In a future version, this will no longer exclude empty or all-NA columns when determining the result dtypes. To retain the old behavior, exclude the relevant entries before the concat operation.\n",
      "  df = pd.concat([df, pd.read_csv(f, index_col='time_stamp')])\n"
     ]
    }
   ],
   "source": [
    "df = pd.DataFrame()\n",
    "for f in glob.glob(\"/Users/bayowaonabajo/cf_mossville/*\"):\n",
    "    print(f)\n",
    "    df = pd.concat([df, pd.read_csv(f, index_col='time_stamp')])\n",
    "df.index = pd.to_datetime(df.index)"
   ]
  },
  {
   "cell_type": "code",
   "execution_count": 54,
   "id": "1f74da93-9868-4bfb-93db-19f96f71f1f1",
   "metadata": {},
   "outputs": [
    {
     "data": {
      "text/plain": [
       "Index(['sensor_index', '2.5_um_count', '2.5_um_count_a', '2.5_um_count_b',\n",
       "       'pm2.5_atm', 'pm2.5_atm_a', 'pm2.5_atm_b', 'pm2.5_cf_1', 'pm2.5_cf_1_a',\n",
       "       'pm2.5_cf_1_b'],\n",
       "      dtype='object')"
      ]
     },
     "execution_count": 54,
     "metadata": {},
     "output_type": "execute_result"
    }
   ],
   "source": [
    "df.columns"
   ]
  },
  {
   "cell_type": "markdown",
   "id": "030d3034-71a3-4b76-a596-ca31a0635040",
   "metadata": {},
   "source": [
    "# Answer 2\n",
    "What the df['pm2.5atm'] does.\n",
    "The command selects the column named pm2.5_atm from the DataFrame \"df\". This column contains the PM2.5 air quality readings (fine particulate matter that can affect health).\n"
   ]
  },
  {
   "cell_type": "code",
   "execution_count": 57,
   "id": "59107642-a6b5-4d65-9806-cc013fc3b6f6",
   "metadata": {},
   "outputs": [
    {
     "data": {
      "text/plain": [
       "time_stamp\n",
       "2024-06-07 03:30:00+00:00    17.555\n",
       "2024-06-07 13:40:00+00:00    15.774\n",
       "2024-06-07 13:10:00+00:00    23.335\n",
       "2024-06-07 02:50:00+00:00    14.551\n",
       "2024-06-07 08:10:00+00:00    28.291\n",
       "Name: pm2.5_atm, dtype: float64"
      ]
     },
     "execution_count": 57,
     "metadata": {},
     "output_type": "execute_result"
    }
   ],
   "source": [
    "df['pm2.5_atm'].head()\n"
   ]
  },
  {
   "cell_type": "markdown",
   "id": "99af3830-f921-4aab-8648-cced27e62e43",
   "metadata": {},
   "source": [
    "# Answer 3\n",
    "What does this command \"df = df.resample(\"1d\").mean()[['pm2.5_atm']]\" do.\n",
    "\n",
    "\"resample(\"1d\")\" groups the data by day,\".mean()\" calculates the daily average for each group, \"[['pm2.5_atm']]\" selects the pm2.5_atm column only and all the above is combined to get the average PM2.5 air quality for the day.\n"
   ]
  },
  {
   "cell_type": "code",
   "execution_count": 60,
   "id": "27dc60a1-771a-4105-a65e-dab725317a97",
   "metadata": {},
   "outputs": [
    {
     "data": {
      "text/html": [
       "<div>\n",
       "<style scoped>\n",
       "    .dataframe tbody tr th:only-of-type {\n",
       "        vertical-align: middle;\n",
       "    }\n",
       "\n",
       "    .dataframe tbody tr th {\n",
       "        vertical-align: top;\n",
       "    }\n",
       "\n",
       "    .dataframe thead th {\n",
       "        text-align: right;\n",
       "    }\n",
       "</style>\n",
       "<table border=\"1\" class=\"dataframe\">\n",
       "  <thead>\n",
       "    <tr style=\"text-align: right;\">\n",
       "      <th></th>\n",
       "      <th>pm2.5_atm</th>\n",
       "    </tr>\n",
       "    <tr>\n",
       "      <th>time_stamp</th>\n",
       "      <th></th>\n",
       "    </tr>\n",
       "  </thead>\n",
       "  <tbody>\n",
       "    <tr>\n",
       "      <th>2024-02-25 00:00:00+00:00</th>\n",
       "      <td>9.929602</td>\n",
       "    </tr>\n",
       "    <tr>\n",
       "      <th>2024-02-26 00:00:00+00:00</th>\n",
       "      <td>19.305769</td>\n",
       "    </tr>\n",
       "    <tr>\n",
       "      <th>2024-02-27 00:00:00+00:00</th>\n",
       "      <td>11.951812</td>\n",
       "    </tr>\n",
       "    <tr>\n",
       "      <th>2024-02-28 00:00:00+00:00</th>\n",
       "      <td>18.240583</td>\n",
       "    </tr>\n",
       "    <tr>\n",
       "      <th>2024-02-29 00:00:00+00:00</th>\n",
       "      <td>2.606073</td>\n",
       "    </tr>\n",
       "  </tbody>\n",
       "</table>\n",
       "</div>"
      ],
      "text/plain": [
       "                           pm2.5_atm\n",
       "time_stamp                          \n",
       "2024-02-25 00:00:00+00:00   9.929602\n",
       "2024-02-26 00:00:00+00:00  19.305769\n",
       "2024-02-27 00:00:00+00:00  11.951812\n",
       "2024-02-28 00:00:00+00:00  18.240583\n",
       "2024-02-29 00:00:00+00:00   2.606073"
      ]
     },
     "execution_count": 60,
     "metadata": {},
     "output_type": "execute_result"
    }
   ],
   "source": [
    "df = df.resample(\"1d\").mean()[['pm2.5_atm']]\n",
    "df.head()"
   ]
  },
  {
   "cell_type": "markdown",
   "id": "cba0f4ff-862f-4094-ab6e-a9f39d3053eb",
   "metadata": {},
   "source": [
    "# Answer 4"
   ]
  },
  {
   "cell_type": "code",
   "execution_count": 63,
   "id": "38ed4753-acdb-42d9-b5ee-0276e25bcadd",
   "metadata": {},
   "outputs": [
    {
     "data": {
      "text/html": [
       "<div>\n",
       "<style scoped>\n",
       "    .dataframe tbody tr th:only-of-type {\n",
       "        vertical-align: middle;\n",
       "    }\n",
       "\n",
       "    .dataframe tbody tr th {\n",
       "        vertical-align: top;\n",
       "    }\n",
       "\n",
       "    .dataframe thead th {\n",
       "        text-align: right;\n",
       "    }\n",
       "</style>\n",
       "<table border=\"1\" class=\"dataframe\">\n",
       "  <thead>\n",
       "    <tr style=\"text-align: right;\">\n",
       "      <th></th>\n",
       "      <th>pm2.5_atm</th>\n",
       "    </tr>\n",
       "    <tr>\n",
       "      <th>time_stamp</th>\n",
       "      <th></th>\n",
       "    </tr>\n",
       "  </thead>\n",
       "  <tbody>\n",
       "    <tr>\n",
       "      <th>2024-05-09 00:00:00+00:00</th>\n",
       "      <td>50.802882</td>\n",
       "    </tr>\n",
       "    <tr>\n",
       "      <th>2024-10-10 00:00:00+00:00</th>\n",
       "      <td>42.433854</td>\n",
       "    </tr>\n",
       "    <tr>\n",
       "      <th>2024-05-27 00:00:00+00:00</th>\n",
       "      <td>42.290444</td>\n",
       "    </tr>\n",
       "    <tr>\n",
       "      <th>2024-08-06 00:00:00+00:00</th>\n",
       "      <td>34.427840</td>\n",
       "    </tr>\n",
       "    <tr>\n",
       "      <th>2024-05-28 00:00:00+00:00</th>\n",
       "      <td>32.614406</td>\n",
       "    </tr>\n",
       "  </tbody>\n",
       "</table>\n",
       "</div>"
      ],
      "text/plain": [
       "                           pm2.5_atm\n",
       "time_stamp                          \n",
       "2024-05-09 00:00:00+00:00  50.802882\n",
       "2024-10-10 00:00:00+00:00  42.433854\n",
       "2024-05-27 00:00:00+00:00  42.290444\n",
       "2024-08-06 00:00:00+00:00  34.427840\n",
       "2024-05-28 00:00:00+00:00  32.614406"
      ]
     },
     "execution_count": 63,
     "metadata": {},
     "output_type": "execute_result"
    }
   ],
   "source": [
    "top5_days = df.nlargest(5, 'pm2.5_atm')\n",
    "top5_days\n"
   ]
  },
  {
   "cell_type": "code",
   "execution_count": 65,
   "id": "29e9bdc0-2560-487b-9313-ac379fdf2e42",
   "metadata": {},
   "outputs": [
    {
     "data": {
      "text/html": [
       "<div>\n",
       "<style scoped>\n",
       "    .dataframe tbody tr th:only-of-type {\n",
       "        vertical-align: middle;\n",
       "    }\n",
       "\n",
       "    .dataframe tbody tr th {\n",
       "        vertical-align: top;\n",
       "    }\n",
       "\n",
       "    .dataframe thead th {\n",
       "        text-align: right;\n",
       "    }\n",
       "</style>\n",
       "<table border=\"1\" class=\"dataframe\">\n",
       "  <thead>\n",
       "    <tr style=\"text-align: right;\">\n",
       "      <th></th>\n",
       "      <th>pm2.5_atm</th>\n",
       "    </tr>\n",
       "    <tr>\n",
       "      <th>time_stamp</th>\n",
       "      <th></th>\n",
       "    </tr>\n",
       "  </thead>\n",
       "  <tbody>\n",
       "    <tr>\n",
       "      <th>2024-08-31 00:00:00+00:00</th>\n",
       "      <td>1.670590</td>\n",
       "    </tr>\n",
       "    <tr>\n",
       "      <th>2024-02-29 00:00:00+00:00</th>\n",
       "      <td>2.606073</td>\n",
       "    </tr>\n",
       "    <tr>\n",
       "      <th>2024-03-19 00:00:00+00:00</th>\n",
       "      <td>2.832826</td>\n",
       "    </tr>\n",
       "    <tr>\n",
       "      <th>2024-07-22 00:00:00+00:00</th>\n",
       "      <td>2.837292</td>\n",
       "    </tr>\n",
       "  </tbody>\n",
       "</table>\n",
       "</div>"
      ],
      "text/plain": [
       "                           pm2.5_atm\n",
       "time_stamp                          \n",
       "2024-08-31 00:00:00+00:00   1.670590\n",
       "2024-02-29 00:00:00+00:00   2.606073\n",
       "2024-03-19 00:00:00+00:00   2.832826\n",
       "2024-07-22 00:00:00+00:00   2.837292"
      ]
     },
     "execution_count": 65,
     "metadata": {},
     "output_type": "execute_result"
    }
   ],
   "source": [
    "top5_days = df.nsmallest(4, 'pm2.5_atm')\n",
    "top5_days\n"
   ]
  },
  {
   "cell_type": "markdown",
   "id": "1fb6b18c-876c-4d82-aedf-b6c4e4f9fb51",
   "metadata": {},
   "source": [
    "# Answer 5\n",
    "## What the command \"df.to_csv(\"data/mossville_pa_hmeans.csv\")\" does.\n",
    "This command saves the processed DataFrame \"df\" to a CSV file named mossville_pa_hmeans.csv in the data directory/folder and creates a permanent record of the sampled data that can be shared, analyzed further, or used in reports."
   ]
  },
  {
   "cell_type": "code",
   "execution_count": 68,
   "id": "3f7f7de2-10bf-454f-9d67-78edb74ee11f",
   "metadata": {},
   "outputs": [],
   "source": [
    "import pandas as pd"
   ]
  },
  {
   "cell_type": "code",
   "execution_count": 70,
   "id": "43d40175-3817-4539-baee-ebb6a2279ab6",
   "metadata": {},
   "outputs": [],
   "source": [
    "df.to_csv(\"data/mossville_pa_hmeans.csv\")\n"
   ]
  },
  {
   "cell_type": "markdown",
   "id": "51f6876e-a987-4c06-ac4d-695752ed19b2",
   "metadata": {},
   "source": [
    "# HW4 003\n",
    "## Answer1\n",
    "What the forum post is about\n",
    "\n",
    "The forum post explains how to calculate the Air Quality Index (AQI) from PM2.5 measurements using the U.S. EPA guidelines and discusses the process of converting PM2.5 concentrations measured in micrograms per cubic meter into an AQI value using a formula based on breakpoint tables. \n",
    "This helps standardize PM2.5 measurements into a format that's easier to interpret.\n"
   ]
  },
  {
   "cell_type": "code",
   "execution_count": 73,
   "id": "7a20da0b-5855-4671-9c01-f638d1f3fb13",
   "metadata": {},
   "outputs": [
    {
     "data": {
      "text/html": [
       "<div>\n",
       "<style scoped>\n",
       "    .dataframe tbody tr th:only-of-type {\n",
       "        vertical-align: middle;\n",
       "    }\n",
       "\n",
       "    .dataframe tbody tr th {\n",
       "        vertical-align: top;\n",
       "    }\n",
       "\n",
       "    .dataframe thead th {\n",
       "        text-align: right;\n",
       "    }\n",
       "</style>\n",
       "<table border=\"1\" class=\"dataframe\">\n",
       "  <thead>\n",
       "    <tr style=\"text-align: right;\">\n",
       "      <th></th>\n",
       "      <th>pm2.5_atm</th>\n",
       "    </tr>\n",
       "    <tr>\n",
       "      <th>time_stamp</th>\n",
       "      <th></th>\n",
       "    </tr>\n",
       "  </thead>\n",
       "  <tbody>\n",
       "    <tr>\n",
       "      <th>2024-10-27 00:00:00+00:00</th>\n",
       "      <td>21.907722</td>\n",
       "    </tr>\n",
       "    <tr>\n",
       "      <th>2024-10-28 00:00:00+00:00</th>\n",
       "      <td>16.608458</td>\n",
       "    </tr>\n",
       "    <tr>\n",
       "      <th>2024-10-29 00:00:00+00:00</th>\n",
       "      <td>16.922208</td>\n",
       "    </tr>\n",
       "    <tr>\n",
       "      <th>2024-10-30 00:00:00+00:00</th>\n",
       "      <td>13.041007</td>\n",
       "    </tr>\n",
       "    <tr>\n",
       "      <th>2024-10-31 00:00:00+00:00</th>\n",
       "      <td>8.032521</td>\n",
       "    </tr>\n",
       "  </tbody>\n",
       "</table>\n",
       "</div>"
      ],
      "text/plain": [
       "                           pm2.5_atm\n",
       "time_stamp                          \n",
       "2024-10-27 00:00:00+00:00  21.907722\n",
       "2024-10-28 00:00:00+00:00  16.608458\n",
       "2024-10-29 00:00:00+00:00  16.922208\n",
       "2024-10-30 00:00:00+00:00  13.041007\n",
       "2024-10-31 00:00:00+00:00   8.032521"
      ]
     },
     "execution_count": 73,
     "metadata": {},
     "output_type": "execute_result"
    }
   ],
   "source": [
    "df.tail()"
   ]
  },
  {
   "cell_type": "code",
   "execution_count": 75,
   "id": "1685c0ae-f4ef-4979-9d30-7155a8780285",
   "metadata": {},
   "outputs": [
    {
     "data": {
      "text/html": [
       "<div>\n",
       "<style scoped>\n",
       "    .dataframe tbody tr th:only-of-type {\n",
       "        vertical-align: middle;\n",
       "    }\n",
       "\n",
       "    .dataframe tbody tr th {\n",
       "        vertical-align: top;\n",
       "    }\n",
       "\n",
       "    .dataframe thead th {\n",
       "        text-align: right;\n",
       "    }\n",
       "</style>\n",
       "<table border=\"1\" class=\"dataframe\">\n",
       "  <thead>\n",
       "    <tr style=\"text-align: right;\">\n",
       "      <th></th>\n",
       "      <th>pm2.5_atm</th>\n",
       "    </tr>\n",
       "    <tr>\n",
       "      <th>time_stamp</th>\n",
       "      <th></th>\n",
       "    </tr>\n",
       "  </thead>\n",
       "  <tbody>\n",
       "    <tr>\n",
       "      <th>2024-02-25 00:00:00+00:00</th>\n",
       "      <td>9.929602</td>\n",
       "    </tr>\n",
       "    <tr>\n",
       "      <th>2024-02-26 00:00:00+00:00</th>\n",
       "      <td>19.305769</td>\n",
       "    </tr>\n",
       "    <tr>\n",
       "      <th>2024-02-27 00:00:00+00:00</th>\n",
       "      <td>11.951813</td>\n",
       "    </tr>\n",
       "    <tr>\n",
       "      <th>2024-02-28 00:00:00+00:00</th>\n",
       "      <td>18.240583</td>\n",
       "    </tr>\n",
       "    <tr>\n",
       "      <th>2024-02-29 00:00:00+00:00</th>\n",
       "      <td>2.606073</td>\n",
       "    </tr>\n",
       "  </tbody>\n",
       "</table>\n",
       "</div>"
      ],
      "text/plain": [
       "                           pm2.5_atm\n",
       "time_stamp                          \n",
       "2024-02-25 00:00:00+00:00   9.929602\n",
       "2024-02-26 00:00:00+00:00  19.305769\n",
       "2024-02-27 00:00:00+00:00  11.951813\n",
       "2024-02-28 00:00:00+00:00  18.240583\n",
       "2024-02-29 00:00:00+00:00   2.606073"
      ]
     },
     "execution_count": 75,
     "metadata": {},
     "output_type": "execute_result"
    }
   ],
   "source": [
    "import pandas as pd\n",
    "df = pd.read_csv(\"data/mossville_pa_hmeans.csv\").set_index(\"time_stamp\")\n",
    "df.head()"
   ]
  },
  {
   "cell_type": "code",
   "execution_count": null,
   "id": "b37415c8-d0f2-410c-a321-e4e47b1ec1f6",
   "metadata": {},
   "outputs": [],
   "source": []
  },
  {
   "cell_type": "code",
   "execution_count": 78,
   "id": "369ae813-91b5-4efe-a616-3d791ad13f76",
   "metadata": {},
   "outputs": [
    {
     "name": "stdout",
     "output_type": "stream",
     "text": [
      "<class 'pandas.core.frame.DataFrame'>\n",
      "Index: 250 entries, 2024-02-25 00:00:00+00:00 to 2024-10-31 00:00:00+00:00\n",
      "Data columns (total 1 columns):\n",
      " #   Column     Non-Null Count  Dtype  \n",
      "---  ------     --------------  -----  \n",
      " 0   pm2.5_atm  250 non-null    float64\n",
      "dtypes: float64(1)\n",
      "memory usage: 3.9+ KB\n"
     ]
    }
   ],
   "source": [
    "df.info()"
   ]
  },
  {
   "cell_type": "code",
   "execution_count": 80,
   "id": "23c37c7c-b12b-430b-99ef-2a8dc0cde5df",
   "metadata": {},
   "outputs": [
    {
     "data": {
      "text/plain": [
       "count    250.000000\n",
       "mean      13.782220\n",
       "std        7.523293\n",
       "min        1.670590\n",
       "25%        8.255626\n",
       "50%       12.932281\n",
       "75%       17.783620\n",
       "max       50.802882\n",
       "Name: pm2.5_atm, dtype: float64"
      ]
     },
     "execution_count": 80,
     "metadata": {},
     "output_type": "execute_result"
    }
   ],
   "source": [
    "df['pm2.5_atm'].describe()"
   ]
  },
  {
   "cell_type": "code",
   "execution_count": 82,
   "id": "355c7ab9-0bad-4df9-9519-425fc1d8d954",
   "metadata": {},
   "outputs": [
    {
     "data": {
      "text/plain": [
       "50.80288194444445"
      ]
     },
     "execution_count": 82,
     "metadata": {},
     "output_type": "execute_result"
    }
   ],
   "source": [
    "df['pm2.5_atm'].max()"
   ]
  },
  {
   "cell_type": "code",
   "execution_count": 84,
   "id": "93390c67-3e9b-426b-9bc3-cad0eab6e5f2",
   "metadata": {},
   "outputs": [
    {
     "data": {
      "text/html": [
       "<div>\n",
       "<style scoped>\n",
       "    .dataframe tbody tr th:only-of-type {\n",
       "        vertical-align: middle;\n",
       "    }\n",
       "\n",
       "    .dataframe tbody tr th {\n",
       "        vertical-align: top;\n",
       "    }\n",
       "\n",
       "    .dataframe thead th {\n",
       "        text-align: right;\n",
       "    }\n",
       "</style>\n",
       "<table border=\"1\" class=\"dataframe\">\n",
       "  <thead>\n",
       "    <tr style=\"text-align: right;\">\n",
       "      <th></th>\n",
       "      <th>pm2.5_atm</th>\n",
       "    </tr>\n",
       "    <tr>\n",
       "      <th>time_stamp</th>\n",
       "      <th></th>\n",
       "    </tr>\n",
       "  </thead>\n",
       "  <tbody>\n",
       "    <tr>\n",
       "      <th>2024-05-09 00:00:00+00:00</th>\n",
       "      <td>50.802882</td>\n",
       "    </tr>\n",
       "  </tbody>\n",
       "</table>\n",
       "</div>"
      ],
      "text/plain": [
       "                           pm2.5_atm\n",
       "time_stamp                          \n",
       "2024-05-09 00:00:00+00:00  50.802882"
      ]
     },
     "execution_count": 84,
     "metadata": {},
     "output_type": "execute_result"
    }
   ],
   "source": [
    "df[df['pm2.5_atm'] == df['pm2.5_atm'].max()]"
   ]
  },
  {
   "cell_type": "code",
   "execution_count": 86,
   "id": "0ec0b0a2-90c1-4d66-a669-abed3fc61601",
   "metadata": {},
   "outputs": [
    {
     "data": {
      "text/plain": [
       "pm2.5_atm    0\n",
       "dtype: int64"
      ]
     },
     "execution_count": 86,
     "metadata": {},
     "output_type": "execute_result"
    }
   ],
   "source": [
    "df.isnull().sum()\n"
   ]
  },
  {
   "cell_type": "code",
   "execution_count": 88,
   "id": "e6fd2d01-1856-478c-9d5c-5a005f594510",
   "metadata": {},
   "outputs": [
    {
     "data": {
      "text/html": [
       "<div>\n",
       "<style scoped>\n",
       "    .dataframe tbody tr th:only-of-type {\n",
       "        vertical-align: middle;\n",
       "    }\n",
       "\n",
       "    .dataframe tbody tr th {\n",
       "        vertical-align: top;\n",
       "    }\n",
       "\n",
       "    .dataframe thead th {\n",
       "        text-align: right;\n",
       "    }\n",
       "</style>\n",
       "<table border=\"1\" class=\"dataframe\">\n",
       "  <thead>\n",
       "    <tr style=\"text-align: right;\">\n",
       "      <th></th>\n",
       "      <th>pm2.5_atm</th>\n",
       "    </tr>\n",
       "    <tr>\n",
       "      <th>time_stamp</th>\n",
       "      <th></th>\n",
       "    </tr>\n",
       "  </thead>\n",
       "  <tbody>\n",
       "    <tr>\n",
       "      <th>2024-10-27 00:00:00+00:00</th>\n",
       "      <td>21.907722</td>\n",
       "    </tr>\n",
       "    <tr>\n",
       "      <th>2024-10-28 00:00:00+00:00</th>\n",
       "      <td>16.608458</td>\n",
       "    </tr>\n",
       "    <tr>\n",
       "      <th>2024-10-29 00:00:00+00:00</th>\n",
       "      <td>16.922208</td>\n",
       "    </tr>\n",
       "    <tr>\n",
       "      <th>2024-10-30 00:00:00+00:00</th>\n",
       "      <td>13.041007</td>\n",
       "    </tr>\n",
       "    <tr>\n",
       "      <th>2024-10-31 00:00:00+00:00</th>\n",
       "      <td>8.032521</td>\n",
       "    </tr>\n",
       "  </tbody>\n",
       "</table>\n",
       "</div>"
      ],
      "text/plain": [
       "                           pm2.5_atm\n",
       "time_stamp                          \n",
       "2024-10-27 00:00:00+00:00  21.907722\n",
       "2024-10-28 00:00:00+00:00  16.608458\n",
       "2024-10-29 00:00:00+00:00  16.922208\n",
       "2024-10-30 00:00:00+00:00  13.041007\n",
       "2024-10-31 00:00:00+00:00   8.032521"
      ]
     },
     "execution_count": 88,
     "metadata": {},
     "output_type": "execute_result"
    }
   ],
   "source": [
    "df.tail()"
   ]
  },
  {
   "cell_type": "markdown",
   "id": "57761a44-1859-42ba-a785-d1ae0e9a22c2",
   "metadata": {},
   "source": [
    "# Answer 2\n",
    "Explanation:\n",
    "\n",
    "pm25_to_aqi function takes raw PM2.5 measurements and converts them into an AQI score. AQI is calculated based on formulas that categorize air quality into health-related bands.\n",
    "\n",
    ".apply() applies the pm25_to_aqi function to every value in the pm2.5_atm column.\n",
    "\n",
    "The AQI values are added as a new column named pm2.5_aqi then the updated data is saved to a new csv file, making it easier to share or analyze later.\n",
    "\n",
    "df.head() displays the first few rows of the updated data for verification.\n",
    "\n",
    "Summary: This code turns those numbers into easy-to-understand scores adds those scores to a table, and saves everything in a new readable file."
   ]
  },
  {
   "cell_type": "code",
   "execution_count": 94,
   "id": "12dc8085-1edf-4764-b6ff-357441cf2b82",
   "metadata": {},
   "outputs": [
    {
     "data": {
      "text/html": [
       "<div>\n",
       "<style scoped>\n",
       "    .dataframe tbody tr th:only-of-type {\n",
       "        vertical-align: middle;\n",
       "    }\n",
       "\n",
       "    .dataframe tbody tr th {\n",
       "        vertical-align: top;\n",
       "    }\n",
       "\n",
       "    .dataframe thead th {\n",
       "        text-align: right;\n",
       "    }\n",
       "</style>\n",
       "<table border=\"1\" class=\"dataframe\">\n",
       "  <thead>\n",
       "    <tr style=\"text-align: right;\">\n",
       "      <th></th>\n",
       "      <th>pm2.5_atm</th>\n",
       "      <th>pm2.5_aqi</th>\n",
       "    </tr>\n",
       "    <tr>\n",
       "      <th>time_stamp</th>\n",
       "      <th></th>\n",
       "      <th></th>\n",
       "    </tr>\n",
       "  </thead>\n",
       "  <tbody>\n",
       "    <tr>\n",
       "      <th>2024-02-25 00:00:00+00:00</th>\n",
       "      <td>9.929602</td>\n",
       "      <td>41.373342</td>\n",
       "    </tr>\n",
       "    <tr>\n",
       "      <th>2024-02-26 00:00:00+00:00</th>\n",
       "      <td>19.305769</td>\n",
       "      <td>65.364394</td>\n",
       "    </tr>\n",
       "    <tr>\n",
       "      <th>2024-02-27 00:00:00+00:00</th>\n",
       "      <td>11.951813</td>\n",
       "      <td>49.799219</td>\n",
       "    </tr>\n",
       "    <tr>\n",
       "      <th>2024-02-28 00:00:00+00:00</th>\n",
       "      <td>18.240583</td>\n",
       "      <td>63.124255</td>\n",
       "    </tr>\n",
       "    <tr>\n",
       "      <th>2024-02-29 00:00:00+00:00</th>\n",
       "      <td>2.606073</td>\n",
       "      <td>10.858637</td>\n",
       "    </tr>\n",
       "  </tbody>\n",
       "</table>\n",
       "</div>"
      ],
      "text/plain": [
       "                           pm2.5_atm  pm2.5_aqi\n",
       "time_stamp                                     \n",
       "2024-02-25 00:00:00+00:00   9.929602  41.373342\n",
       "2024-02-26 00:00:00+00:00  19.305769  65.364394\n",
       "2024-02-27 00:00:00+00:00  11.951813  49.799219\n",
       "2024-02-28 00:00:00+00:00  18.240583  63.124255\n",
       "2024-02-29 00:00:00+00:00   2.606073  10.858637"
      ]
     },
     "execution_count": 94,
     "metadata": {},
     "output_type": "execute_result"
    }
   ],
   "source": [
    "import pandas as pd\n",
    "from  pm25helper import pm25_to_aqi\n",
    "\n",
    "df['pm2.5_aqi'] = df['pm2.5_atm'].apply(pm25_to_aqi)\n",
    "df.to_csv(\"data/mossville_pa_hmeans_aqi.csv\")\n",
    "df.head()"
   ]
  },
  {
   "cell_type": "code",
   "execution_count": 96,
   "id": "d8a0d691-d39f-44fc-9ecc-10314355430d",
   "metadata": {},
   "outputs": [
    {
     "name": "stdout",
     "output_type": "stream",
     "text": [
      "['pm25helper.py', 'pahelper.py', '.ipynb_checkpoints', 'cchelper.py']\n"
     ]
    }
   ],
   "source": [
    "import os\n",
    "print(os.listdir('/Users/bayowaonabajo/helpers'))\n"
   ]
  },
  {
   "cell_type": "markdown",
   "id": "1c02e65a-9af0-4635-8af7-a7cf516973e9",
   "metadata": {},
   "source": [
    "# Answer 3"
   ]
  },
  {
   "cell_type": "markdown",
   "id": "dc27d1c8-99dc-4ad4-9645-0241e3c4bf67",
   "metadata": {},
   "source": [
    "\n",
    "# What does pm25_to_aqi do, and why is it necessary.\n",
    "\n",
    "The function 'pm25_to_aqi' converts raw PM2.5 measurements into the AQI using a standardized formula provided by organizations like the Environmental Protection Agency (EPA). \n",
    "This involves matching ranges where PM2.5 levels are divided into ranges, and each range corresponds to a specific AQI range.\n",
    "\n",
    "If the PM2.5 value falls within a range, the AQI is calculated using a mathematical formula to find the exact value.\n",
    "\n",
    "PM2.5 values alone don't tell us how good or bad the air is for health. The AQI translates these scientific values into a scale that people can understand, with health warnings and color codes (green for safe, red for unhealthy, etc.). This is necessary for people to make decisions, like staying indoors on bad air days.\n",
    "\n",
    "\n",
    "\n",
    "\n",
    "\n",
    "\n"
   ]
  },
  {
   "cell_type": "markdown",
   "id": "cc77c165-35a6-4a45-9a4f-9c47871c8b01",
   "metadata": {},
   "source": [
    "# HW 004"
   ]
  },
  {
   "cell_type": "code",
   "execution_count": 101,
   "id": "ce8325ee-53f3-4c52-a2b4-0f87dc3782c6",
   "metadata": {},
   "outputs": [
    {
     "data": {
      "text/html": [
       "<div>\n",
       "<style scoped>\n",
       "    .dataframe tbody tr th:only-of-type {\n",
       "        vertical-align: middle;\n",
       "    }\n",
       "\n",
       "    .dataframe tbody tr th {\n",
       "        vertical-align: top;\n",
       "    }\n",
       "\n",
       "    .dataframe thead th {\n",
       "        text-align: right;\n",
       "    }\n",
       "</style>\n",
       "<table border=\"1\" class=\"dataframe\">\n",
       "  <thead>\n",
       "    <tr style=\"text-align: right;\">\n",
       "      <th></th>\n",
       "      <th>Mossville_PA_PM2.5</th>\n",
       "      <th>Mossville_PA_AQI</th>\n",
       "    </tr>\n",
       "    <tr>\n",
       "      <th>time_stamp</th>\n",
       "      <th></th>\n",
       "      <th></th>\n",
       "    </tr>\n",
       "  </thead>\n",
       "  <tbody>\n",
       "    <tr>\n",
       "      <th>2024-02-25</th>\n",
       "      <td>9.929602</td>\n",
       "      <td>41.373342</td>\n",
       "    </tr>\n",
       "    <tr>\n",
       "      <th>2024-02-26</th>\n",
       "      <td>19.305769</td>\n",
       "      <td>65.364394</td>\n",
       "    </tr>\n",
       "    <tr>\n",
       "      <th>2024-02-27</th>\n",
       "      <td>11.951813</td>\n",
       "      <td>49.799219</td>\n",
       "    </tr>\n",
       "    <tr>\n",
       "      <th>2024-02-28</th>\n",
       "      <td>18.240583</td>\n",
       "      <td>63.124255</td>\n",
       "    </tr>\n",
       "    <tr>\n",
       "      <th>2024-02-29</th>\n",
       "      <td>2.606073</td>\n",
       "      <td>10.858637</td>\n",
       "    </tr>\n",
       "  </tbody>\n",
       "</table>\n",
       "</div>"
      ],
      "text/plain": [
       "            Mossville_PA_PM2.5  Mossville_PA_AQI\n",
       "time_stamp                                      \n",
       "2024-02-25            9.929602         41.373342\n",
       "2024-02-26           19.305769         65.364394\n",
       "2024-02-27           11.951813         49.799219\n",
       "2024-02-28           18.240583         63.124255\n",
       "2024-02-29            2.606073         10.858637"
      ]
     },
     "execution_count": 101,
     "metadata": {},
     "output_type": "execute_result"
    }
   ],
   "source": [
    "import pandas as pd\n",
    "## LOAD PA AQI MEANS\n",
    "df_a = pd.read_csv(\"data/mossville_pa_hmeans_aqi.csv\").set_index(\"time_stamp\")\n",
    "df_a.index = pd.to_datetime(df_a.index)\n",
    "df_a.index = df_a.index.tz_convert(None)\n",
    "df_a.columns = [\"Mossville_PA_PM2.5\", \"Mossville_PA_AQI\"]\n",
    "df_a.head()"
   ]
  },
  {
   "cell_type": "code",
   "execution_count": 103,
   "id": "ad6dcdde-7776-443a-9432-d3f73130c73b",
   "metadata": {},
   "outputs": [
    {
     "data": {
      "text/html": [
       "<div>\n",
       "<style scoped>\n",
       "    .dataframe tbody tr th:only-of-type {\n",
       "        vertical-align: middle;\n",
       "    }\n",
       "\n",
       "    .dataframe tbody tr th {\n",
       "        vertical-align: top;\n",
       "    }\n",
       "\n",
       "    .dataframe thead th {\n",
       "        text-align: right;\n",
       "    }\n",
       "</style>\n",
       "<table border=\"1\" class=\"dataframe\">\n",
       "  <thead>\n",
       "    <tr style=\"text-align: right;\">\n",
       "      <th></th>\n",
       "      <th>Mossville_PA_PM2.5</th>\n",
       "      <th>Mossville_PA_AQI</th>\n",
       "    </tr>\n",
       "  </thead>\n",
       "  <tbody>\n",
       "    <tr>\n",
       "      <th>count</th>\n",
       "      <td>250.000000</td>\n",
       "      <td>250.000000</td>\n",
       "    </tr>\n",
       "    <tr>\n",
       "      <th>mean</th>\n",
       "      <td>13.782220</td>\n",
       "      <td>49.697538</td>\n",
       "    </tr>\n",
       "    <tr>\n",
       "      <th>std</th>\n",
       "      <td>7.523293</td>\n",
       "      <td>20.642189</td>\n",
       "    </tr>\n",
       "    <tr>\n",
       "      <th>min</th>\n",
       "      <td>1.670590</td>\n",
       "      <td>6.960793</td>\n",
       "    </tr>\n",
       "    <tr>\n",
       "      <th>25%</th>\n",
       "      <td>8.255626</td>\n",
       "      <td>34.398441</td>\n",
       "    </tr>\n",
       "    <tr>\n",
       "      <th>50%</th>\n",
       "      <td>12.932281</td>\n",
       "      <td>51.960634</td>\n",
       "    </tr>\n",
       "    <tr>\n",
       "      <th>75%</th>\n",
       "      <td>17.783620</td>\n",
       "      <td>62.163238</td>\n",
       "    </tr>\n",
       "    <tr>\n",
       "      <th>max</th>\n",
       "      <td>50.802882</td>\n",
       "      <td>138.733665</td>\n",
       "    </tr>\n",
       "  </tbody>\n",
       "</table>\n",
       "</div>"
      ],
      "text/plain": [
       "       Mossville_PA_PM2.5  Mossville_PA_AQI\n",
       "count          250.000000        250.000000\n",
       "mean            13.782220         49.697538\n",
       "std              7.523293         20.642189\n",
       "min              1.670590          6.960793\n",
       "25%              8.255626         34.398441\n",
       "50%             12.932281         51.960634\n",
       "75%             17.783620         62.163238\n",
       "max             50.802882        138.733665"
      ]
     },
     "execution_count": 103,
     "metadata": {},
     "output_type": "execute_result"
    }
   ],
   "source": [
    "df_a.describe()"
   ]
  },
  {
   "cell_type": "code",
   "execution_count": 105,
   "id": "73fdbcef-0466-4120-96a9-d71106e69fa6",
   "metadata": {},
   "outputs": [
    {
     "data": {
      "text/html": [
       "<div>\n",
       "<style scoped>\n",
       "    .dataframe tbody tr th:only-of-type {\n",
       "        vertical-align: middle;\n",
       "    }\n",
       "\n",
       "    .dataframe tbody tr th {\n",
       "        vertical-align: top;\n",
       "    }\n",
       "\n",
       "    .dataframe thead th {\n",
       "        text-align: right;\n",
       "    }\n",
       "</style>\n",
       "<table border=\"1\" class=\"dataframe\">\n",
       "  <thead>\n",
       "    <tr style=\"text-align: right;\">\n",
       "      <th></th>\n",
       "      <th>Baton Rouge</th>\n",
       "      <th>Alexandria</th>\n",
       "      <th>Lake Charles</th>\n",
       "      <th>Lafayette</th>\n",
       "      <th>Monroe</th>\n",
       "      <th>New Orleans</th>\n",
       "      <th>Shreveport</th>\n",
       "      <th>Thibodaux</th>\n",
       "    </tr>\n",
       "  </thead>\n",
       "  <tbody>\n",
       "    <tr>\n",
       "      <th>2024-02-23</th>\n",
       "      <td>46</td>\n",
       "      <td>42</td>\n",
       "      <td>53</td>\n",
       "      <td>42</td>\n",
       "      <td>29</td>\n",
       "      <td>42</td>\n",
       "      <td>38</td>\n",
       "      <td>38</td>\n",
       "    </tr>\n",
       "    <tr>\n",
       "      <th>2024-02-24</th>\n",
       "      <td>42</td>\n",
       "      <td>38</td>\n",
       "      <td>50</td>\n",
       "      <td>38</td>\n",
       "      <td>25</td>\n",
       "      <td>38</td>\n",
       "      <td>33</td>\n",
       "      <td>33</td>\n",
       "    </tr>\n",
       "    <tr>\n",
       "      <th>2024-02-25</th>\n",
       "      <td>53</td>\n",
       "      <td>42</td>\n",
       "      <td>55</td>\n",
       "      <td>46</td>\n",
       "      <td>38</td>\n",
       "      <td>50</td>\n",
       "      <td>46</td>\n",
       "      <td>46</td>\n",
       "    </tr>\n",
       "    <tr>\n",
       "      <th>2024-04-17</th>\n",
       "      <td>53</td>\n",
       "      <td>50</td>\n",
       "      <td>50</td>\n",
       "      <td>42</td>\n",
       "      <td>42</td>\n",
       "      <td>42</td>\n",
       "      <td>55</td>\n",
       "      <td>46</td>\n",
       "    </tr>\n",
       "    <tr>\n",
       "      <th>2024-04-18</th>\n",
       "      <td>50</td>\n",
       "      <td>46</td>\n",
       "      <td>53</td>\n",
       "      <td>50</td>\n",
       "      <td>46</td>\n",
       "      <td>46</td>\n",
       "      <td>55</td>\n",
       "      <td>50</td>\n",
       "    </tr>\n",
       "  </tbody>\n",
       "</table>\n",
       "</div>"
      ],
      "text/plain": [
       "            Baton Rouge  Alexandria  Lake Charles  Lafayette  Monroe  \\\n",
       "2024-02-23           46          42            53         42      29   \n",
       "2024-02-24           42          38            50         38      25   \n",
       "2024-02-25           53          42            55         46      38   \n",
       "2024-04-17           53          50            50         42      42   \n",
       "2024-04-18           50          46            53         50      46   \n",
       "\n",
       "            New Orleans  Shreveport  Thibodaux  \n",
       "2024-02-23           42          38         38  \n",
       "2024-02-24           38          33         33  \n",
       "2024-02-25           50          46         46  \n",
       "2024-04-17           42          55         46  \n",
       "2024-04-18           46          55         50  "
      ]
     },
     "execution_count": 105,
     "metadata": {},
     "output_type": "execute_result"
    }
   ],
   "source": [
    "## LOAD FORECASTED DATA\n",
    "df_b = pd.read_csv(\"data/mossville_ldeq_cc_forecast_archives.csv\", index_col=0)\n",
    "df_b.index = pd.to_datetime(df_b.index)\n",
    "df_b.head()"
   ]
  },
  {
   "cell_type": "code",
   "execution_count": 107,
   "id": "10773abe-bb75-4bba-a469-62dad960d4d7",
   "metadata": {},
   "outputs": [
    {
     "data": {
      "text/html": [
       "<div>\n",
       "<style scoped>\n",
       "    .dataframe tbody tr th:only-of-type {\n",
       "        vertical-align: middle;\n",
       "    }\n",
       "\n",
       "    .dataframe tbody tr th {\n",
       "        vertical-align: top;\n",
       "    }\n",
       "\n",
       "    .dataframe thead th {\n",
       "        text-align: right;\n",
       "    }\n",
       "</style>\n",
       "<table border=\"1\" class=\"dataframe\">\n",
       "  <thead>\n",
       "    <tr style=\"text-align: right;\">\n",
       "      <th></th>\n",
       "      <th>Lake Charles</th>\n",
       "      <th>Mossville_PA_AQI</th>\n",
       "    </tr>\n",
       "  </thead>\n",
       "  <tbody>\n",
       "    <tr>\n",
       "      <th>2024-02-25</th>\n",
       "      <td>55</td>\n",
       "      <td>41.373342</td>\n",
       "    </tr>\n",
       "    <tr>\n",
       "      <th>2024-04-17</th>\n",
       "      <td>50</td>\n",
       "      <td>68.348391</td>\n",
       "    </tr>\n",
       "    <tr>\n",
       "      <th>2024-04-18</th>\n",
       "      <td>53</td>\n",
       "      <td>72.166360</td>\n",
       "    </tr>\n",
       "    <tr>\n",
       "      <th>2024-04-19</th>\n",
       "      <td>53</td>\n",
       "      <td>67.546837</td>\n",
       "    </tr>\n",
       "    <tr>\n",
       "      <th>2024-05-26</th>\n",
       "      <td>60</td>\n",
       "      <td>67.695686</td>\n",
       "    </tr>\n",
       "    <tr>\n",
       "      <th>2024-05-27</th>\n",
       "      <td>66</td>\n",
       "      <td>117.880070</td>\n",
       "    </tr>\n",
       "    <tr>\n",
       "      <th>2024-05-28</th>\n",
       "      <td>58</td>\n",
       "      <td>93.353115</td>\n",
       "    </tr>\n",
       "    <tr>\n",
       "      <th>2024-06-13</th>\n",
       "      <td>55</td>\n",
       "      <td>74.105021</td>\n",
       "    </tr>\n",
       "    <tr>\n",
       "      <th>2024-06-14</th>\n",
       "      <td>56</td>\n",
       "      <td>67.668682</td>\n",
       "    </tr>\n",
       "    <tr>\n",
       "      <th>2024-06-15</th>\n",
       "      <td>55</td>\n",
       "      <td>83.827419</td>\n",
       "    </tr>\n",
       "    <tr>\n",
       "      <th>2024-07-13</th>\n",
       "      <td>69</td>\n",
       "      <td>72.392438</td>\n",
       "    </tr>\n",
       "    <tr>\n",
       "      <th>2024-07-14</th>\n",
       "      <td>66</td>\n",
       "      <td>57.739215</td>\n",
       "    </tr>\n",
       "    <tr>\n",
       "      <th>2024-07-15</th>\n",
       "      <td>68</td>\n",
       "      <td>50.372824</td>\n",
       "    </tr>\n",
       "    <tr>\n",
       "      <th>2024-08-05</th>\n",
       "      <td>55</td>\n",
       "      <td>89.442217</td>\n",
       "    </tr>\n",
       "    <tr>\n",
       "      <th>2024-08-06</th>\n",
       "      <td>53</td>\n",
       "      <td>97.166857</td>\n",
       "    </tr>\n",
       "    <tr>\n",
       "      <th>2024-08-07</th>\n",
       "      <td>68</td>\n",
       "      <td>90.150456</td>\n",
       "    </tr>\n",
       "    <tr>\n",
       "      <th>2024-09-14</th>\n",
       "      <td>39</td>\n",
       "      <td>53.219769</td>\n",
       "    </tr>\n",
       "    <tr>\n",
       "      <th>2024-09-15</th>\n",
       "      <td>44</td>\n",
       "      <td>54.650901</td>\n",
       "    </tr>\n",
       "    <tr>\n",
       "      <th>2024-09-16</th>\n",
       "      <td>39</td>\n",
       "      <td>55.856102</td>\n",
       "    </tr>\n",
       "    <tr>\n",
       "      <th>2024-10-07</th>\n",
       "      <td>53</td>\n",
       "      <td>57.162329</td>\n",
       "    </tr>\n",
       "    <tr>\n",
       "      <th>2024-10-08</th>\n",
       "      <td>53</td>\n",
       "      <td>59.048341</td>\n",
       "    </tr>\n",
       "    <tr>\n",
       "      <th>2024-10-09</th>\n",
       "      <td>50</td>\n",
       "      <td>72.257331</td>\n",
       "    </tr>\n",
       "  </tbody>\n",
       "</table>\n",
       "</div>"
      ],
      "text/plain": [
       "            Lake Charles  Mossville_PA_AQI\n",
       "2024-02-25            55         41.373342\n",
       "2024-04-17            50         68.348391\n",
       "2024-04-18            53         72.166360\n",
       "2024-04-19            53         67.546837\n",
       "2024-05-26            60         67.695686\n",
       "2024-05-27            66        117.880070\n",
       "2024-05-28            58         93.353115\n",
       "2024-06-13            55         74.105021\n",
       "2024-06-14            56         67.668682\n",
       "2024-06-15            55         83.827419\n",
       "2024-07-13            69         72.392438\n",
       "2024-07-14            66         57.739215\n",
       "2024-07-15            68         50.372824\n",
       "2024-08-05            55         89.442217\n",
       "2024-08-06            53         97.166857\n",
       "2024-08-07            68         90.150456\n",
       "2024-09-14            39         53.219769\n",
       "2024-09-15            44         54.650901\n",
       "2024-09-16            39         55.856102\n",
       "2024-10-07            53         57.162329\n",
       "2024-10-08            53         59.048341\n",
       "2024-10-09            50         72.257331"
      ]
     },
     "execution_count": 107,
     "metadata": {},
     "output_type": "execute_result"
    }
   ],
   "source": [
    "#MERGE\n",
    "df = df_b.merge(df_a, left_index=True, right_index=True)[['Lake Charles', 'Mossville_PA_AQI']]\n",
    "df"
   ]
  },
  {
   "cell_type": "code",
   "execution_count": 109,
   "id": "d5975c7e-75a0-48ec-957d-8720104dda0b",
   "metadata": {},
   "outputs": [
    {
     "data": {
      "text/html": [
       "<div>\n",
       "<style scoped>\n",
       "    .dataframe tbody tr th:only-of-type {\n",
       "        vertical-align: middle;\n",
       "    }\n",
       "\n",
       "    .dataframe tbody tr th {\n",
       "        vertical-align: top;\n",
       "    }\n",
       "\n",
       "    .dataframe thead th {\n",
       "        text-align: right;\n",
       "    }\n",
       "</style>\n",
       "<table border=\"1\" class=\"dataframe\">\n",
       "  <thead>\n",
       "    <tr style=\"text-align: right;\">\n",
       "      <th></th>\n",
       "      <th>Lake Charles</th>\n",
       "      <th>Mossville_PA_AQI</th>\n",
       "      <th>PA_Forecast_Delta</th>\n",
       "    </tr>\n",
       "  </thead>\n",
       "  <tbody>\n",
       "    <tr>\n",
       "      <th>2024-02-25</th>\n",
       "      <td>55</td>\n",
       "      <td>41.373342</td>\n",
       "      <td>13.626658</td>\n",
       "    </tr>\n",
       "    <tr>\n",
       "      <th>2024-04-17</th>\n",
       "      <td>50</td>\n",
       "      <td>68.348391</td>\n",
       "      <td>-18.348391</td>\n",
       "    </tr>\n",
       "    <tr>\n",
       "      <th>2024-04-18</th>\n",
       "      <td>53</td>\n",
       "      <td>72.166360</td>\n",
       "      <td>-19.166360</td>\n",
       "    </tr>\n",
       "    <tr>\n",
       "      <th>2024-04-19</th>\n",
       "      <td>53</td>\n",
       "      <td>67.546837</td>\n",
       "      <td>-14.546837</td>\n",
       "    </tr>\n",
       "    <tr>\n",
       "      <th>2024-05-26</th>\n",
       "      <td>60</td>\n",
       "      <td>67.695686</td>\n",
       "      <td>-7.695686</td>\n",
       "    </tr>\n",
       "  </tbody>\n",
       "</table>\n",
       "</div>"
      ],
      "text/plain": [
       "            Lake Charles  Mossville_PA_AQI  PA_Forecast_Delta\n",
       "2024-02-25            55         41.373342          13.626658\n",
       "2024-04-17            50         68.348391         -18.348391\n",
       "2024-04-18            53         72.166360         -19.166360\n",
       "2024-04-19            53         67.546837         -14.546837\n",
       "2024-05-26            60         67.695686          -7.695686"
      ]
     },
     "execution_count": 109,
     "metadata": {},
     "output_type": "execute_result"
    }
   ],
   "source": [
    "## COMPUTE DELTAS COLUMN\n",
    "df['PA_Forecast_Delta'] = df['Lake Charles'] - df['Mossville_PA_AQI']\n",
    "df.head()"
   ]
  },
  {
   "cell_type": "markdown",
   "id": "3c242fc7-1523-4b5f-bfb5-a8f174f9d220",
   "metadata": {},
   "source": [
    "# Answer 1\n",
    "## Why is \"Lake Charles\" chosen as the data column in the cell above.\n",
    "\n",
    "Lake Charles is chosen as it represents the geographically closest location with AQI data to Mossville. Proximity makes it a logical candidate for comparing forecasted air quality with the actual AQI recorded by the Mossville PurpleAir monitor."
   ]
  },
  {
   "cell_type": "code",
   "execution_count": null,
   "id": "fc5797f8-b8c0-487a-b2af-f0a1b47c857f",
   "metadata": {},
   "outputs": [],
   "source": []
  },
  {
   "cell_type": "markdown",
   "id": "373e5bda-80ae-4d6c-ad46-02051522bf05",
   "metadata": {},
   "source": [
    "# Answer 2\n",
    "\n",
    "The lake charles forecasted data doesnt match the actual mossville purple air AQI data.\n",
    "The mean AQI for Lake Charles (55.36) is significantly lower than Mossville's (71.06), indicating a systematic difference.While the standard deviation of Mossville's AQI is higher (18.17 vs. 8.48), suggesting greater variability in Mossville's readings.\n",
    "Yes, i agree the minimum values are close, with Lake Charles at 39 and Mossville at 41.37 which could be due to an error, or incomplete data transformation etc."
   ]
  },
  {
   "cell_type": "code",
   "execution_count": 114,
   "id": "cfc80888-177d-47fb-87ab-f12b97b050fe",
   "metadata": {},
   "outputs": [
    {
     "data": {
      "text/html": [
       "<div>\n",
       "<style scoped>\n",
       "    .dataframe tbody tr th:only-of-type {\n",
       "        vertical-align: middle;\n",
       "    }\n",
       "\n",
       "    .dataframe tbody tr th {\n",
       "        vertical-align: top;\n",
       "    }\n",
       "\n",
       "    .dataframe thead th {\n",
       "        text-align: right;\n",
       "    }\n",
       "</style>\n",
       "<table border=\"1\" class=\"dataframe\">\n",
       "  <thead>\n",
       "    <tr style=\"text-align: right;\">\n",
       "      <th></th>\n",
       "      <th>Lake Charles</th>\n",
       "      <th>Mossville_PA_AQI</th>\n",
       "      <th>PA_Forecast_Delta</th>\n",
       "    </tr>\n",
       "  </thead>\n",
       "  <tbody>\n",
       "    <tr>\n",
       "      <th>count</th>\n",
       "      <td>22.000000</td>\n",
       "      <td>22.000000</td>\n",
       "      <td>22.000000</td>\n",
       "    </tr>\n",
       "    <tr>\n",
       "      <th>mean</th>\n",
       "      <td>55.363636</td>\n",
       "      <td>71.064714</td>\n",
       "      <td>-15.701077</td>\n",
       "    </tr>\n",
       "    <tr>\n",
       "      <th>std</th>\n",
       "      <td>8.482730</td>\n",
       "      <td>18.172538</td>\n",
       "      <td>17.151603</td>\n",
       "    </tr>\n",
       "    <tr>\n",
       "      <th>min</th>\n",
       "      <td>39.000000</td>\n",
       "      <td>41.373342</td>\n",
       "      <td>-51.880070</td>\n",
       "    </tr>\n",
       "    <tr>\n",
       "      <th>25%</th>\n",
       "      <td>53.000000</td>\n",
       "      <td>57.306550</td>\n",
       "      <td>-22.230613</td>\n",
       "    </tr>\n",
       "    <tr>\n",
       "      <th>50%</th>\n",
       "      <td>55.000000</td>\n",
       "      <td>68.022038</td>\n",
       "      <td>-15.701469</td>\n",
       "    </tr>\n",
       "    <tr>\n",
       "      <th>75%</th>\n",
       "      <td>59.500000</td>\n",
       "      <td>81.396819</td>\n",
       "      <td>-6.460177</td>\n",
       "    </tr>\n",
       "    <tr>\n",
       "      <th>max</th>\n",
       "      <td>69.000000</td>\n",
       "      <td>117.880070</td>\n",
       "      <td>17.627176</td>\n",
       "    </tr>\n",
       "  </tbody>\n",
       "</table>\n",
       "</div>"
      ],
      "text/plain": [
       "       Lake Charles  Mossville_PA_AQI  PA_Forecast_Delta\n",
       "count     22.000000         22.000000          22.000000\n",
       "mean      55.363636         71.064714         -15.701077\n",
       "std        8.482730         18.172538          17.151603\n",
       "min       39.000000         41.373342         -51.880070\n",
       "25%       53.000000         57.306550         -22.230613\n",
       "50%       55.000000         68.022038         -15.701469\n",
       "75%       59.500000         81.396819          -6.460177\n",
       "max       69.000000        117.880070          17.627176"
      ]
     },
     "execution_count": 114,
     "metadata": {},
     "output_type": "execute_result"
    }
   ],
   "source": [
    "df.describe()"
   ]
  },
  {
   "cell_type": "markdown",
   "id": "0187ab24-670e-4ffd-a206-61d3e04d68e2",
   "metadata": {},
   "source": [
    "# Answer 3\n",
    "\n",
    "Lake Charles's worst AQI values (69, 68, etc.) overlap with Mossville's higher AQI values (72.39, 90.15). However, the largest discrepancy occurs on days like May 27th, where Mossville's AQI is over 117 compared to Lake Charles's 66. This indicates that worst-case scenarios in Mossville can be underestimated by Lake Charles forecasts.\n",
    "\n",
    "The best AQ days in Mossville (minimum AQI 41) align closely with Lake Charles's minimum AQI (39), supporting a more consistent relationship for lower AQI ranges."
   ]
  },
  {
   "cell_type": "code",
   "execution_count": 117,
   "id": "a2b45cea-b707-41a5-88d4-d392b38abb5f",
   "metadata": {},
   "outputs": [
    {
     "data": {
      "text/html": [
       "<div>\n",
       "<style scoped>\n",
       "    .dataframe tbody tr th:only-of-type {\n",
       "        vertical-align: middle;\n",
       "    }\n",
       "\n",
       "    .dataframe tbody tr th {\n",
       "        vertical-align: top;\n",
       "    }\n",
       "\n",
       "    .dataframe thead th {\n",
       "        text-align: right;\n",
       "    }\n",
       "</style>\n",
       "<table border=\"1\" class=\"dataframe\">\n",
       "  <thead>\n",
       "    <tr style=\"text-align: right;\">\n",
       "      <th></th>\n",
       "      <th>Lake Charles</th>\n",
       "      <th>Mossville_PA_AQI</th>\n",
       "      <th>PA_Forecast_Delta</th>\n",
       "    </tr>\n",
       "  </thead>\n",
       "  <tbody>\n",
       "    <tr>\n",
       "      <th>2024-07-13</th>\n",
       "      <td>69</td>\n",
       "      <td>72.392438</td>\n",
       "      <td>-3.392438</td>\n",
       "    </tr>\n",
       "    <tr>\n",
       "      <th>2024-07-15</th>\n",
       "      <td>68</td>\n",
       "      <td>50.372824</td>\n",
       "      <td>17.627176</td>\n",
       "    </tr>\n",
       "    <tr>\n",
       "      <th>2024-08-07</th>\n",
       "      <td>68</td>\n",
       "      <td>90.150456</td>\n",
       "      <td>-22.150456</td>\n",
       "    </tr>\n",
       "    <tr>\n",
       "      <th>2024-05-27</th>\n",
       "      <td>66</td>\n",
       "      <td>117.880070</td>\n",
       "      <td>-51.880070</td>\n",
       "    </tr>\n",
       "    <tr>\n",
       "      <th>2024-07-14</th>\n",
       "      <td>66</td>\n",
       "      <td>57.739215</td>\n",
       "      <td>8.260785</td>\n",
       "    </tr>\n",
       "  </tbody>\n",
       "</table>\n",
       "</div>"
      ],
      "text/plain": [
       "            Lake Charles  Mossville_PA_AQI  PA_Forecast_Delta\n",
       "2024-07-13            69         72.392438          -3.392438\n",
       "2024-07-15            68         50.372824          17.627176\n",
       "2024-08-07            68         90.150456         -22.150456\n",
       "2024-05-27            66        117.880070         -51.880070\n",
       "2024-07-14            66         57.739215           8.260785"
      ]
     },
     "execution_count": 117,
     "metadata": {},
     "output_type": "execute_result"
    }
   ],
   "source": [
    "df.nlargest(5, 'Lake Charles')"
   ]
  },
  {
   "cell_type": "code",
   "execution_count": 119,
   "id": "00b43d92-c4b8-4dd4-ba9f-32fe652d6dc9",
   "metadata": {},
   "outputs": [
    {
     "data": {
      "text/html": [
       "<div>\n",
       "<style scoped>\n",
       "    .dataframe tbody tr th:only-of-type {\n",
       "        vertical-align: middle;\n",
       "    }\n",
       "\n",
       "    .dataframe tbody tr th {\n",
       "        vertical-align: top;\n",
       "    }\n",
       "\n",
       "    .dataframe thead th {\n",
       "        text-align: right;\n",
       "    }\n",
       "</style>\n",
       "<table border=\"1\" class=\"dataframe\">\n",
       "  <thead>\n",
       "    <tr style=\"text-align: right;\">\n",
       "      <th></th>\n",
       "      <th>Lake Charles</th>\n",
       "      <th>Mossville_PA_AQI</th>\n",
       "      <th>PA_Forecast_Delta</th>\n",
       "    </tr>\n",
       "  </thead>\n",
       "  <tbody>\n",
       "    <tr>\n",
       "      <th>2024-02-25</th>\n",
       "      <td>55</td>\n",
       "      <td>41.373342</td>\n",
       "      <td>13.626658</td>\n",
       "    </tr>\n",
       "    <tr>\n",
       "      <th>2024-07-15</th>\n",
       "      <td>68</td>\n",
       "      <td>50.372824</td>\n",
       "      <td>17.627176</td>\n",
       "    </tr>\n",
       "    <tr>\n",
       "      <th>2024-09-14</th>\n",
       "      <td>39</td>\n",
       "      <td>53.219769</td>\n",
       "      <td>-14.219769</td>\n",
       "    </tr>\n",
       "    <tr>\n",
       "      <th>2024-09-15</th>\n",
       "      <td>44</td>\n",
       "      <td>54.650901</td>\n",
       "      <td>-10.650901</td>\n",
       "    </tr>\n",
       "    <tr>\n",
       "      <th>2024-09-16</th>\n",
       "      <td>39</td>\n",
       "      <td>55.856102</td>\n",
       "      <td>-16.856102</td>\n",
       "    </tr>\n",
       "  </tbody>\n",
       "</table>\n",
       "</div>"
      ],
      "text/plain": [
       "            Lake Charles  Mossville_PA_AQI  PA_Forecast_Delta\n",
       "2024-02-25            55         41.373342          13.626658\n",
       "2024-07-15            68         50.372824          17.627176\n",
       "2024-09-14            39         53.219769         -14.219769\n",
       "2024-09-15            44         54.650901         -10.650901\n",
       "2024-09-16            39         55.856102         -16.856102"
      ]
     },
     "execution_count": 119,
     "metadata": {},
     "output_type": "execute_result"
    }
   ],
   "source": [
    "df.nsmallest(5, 'Mossville_PA_AQI')"
   ]
  },
  {
   "cell_type": "markdown",
   "id": "d73fd5d6-a910-40a0-9aa3-323cefe33b21",
   "metadata": {},
   "source": [
    "# Answer 4\n",
    "\n",
    "Mean AQI (49.7) falls in the \"Good\" to \"Moderate\" category. This implies air quality is acceptable but may pose concerns for some groups.\n",
    "Median AQI (51.9) reinforces the \"Moderate\" categorization.\n",
    "Max AQI (138.7) falls in the \"Unhealthy\" for Sensitive Groups range, signaling potential health impacts during peak pollution days.\n",
    "Mossville's AQI indicates generally good air quality but with some days that could be concerning, especially for sensitive individuals such as those with respiratory illnesses. The AQI scale classifies air quality into six levels, ranging from \"Good\" (0–50) to \"Hazardous\" (301+). Mossville's data mostly stays within acceptable ranges but shows variability requiring attention during high AQI days."
   ]
  },
  {
   "cell_type": "code",
   "execution_count": 122,
   "id": "18652ecc-4e9e-49df-8740-1acb2ef31d40",
   "metadata": {},
   "outputs": [
    {
     "data": {
      "text/plain": [
       "count    250.000000\n",
       "mean      49.697538\n",
       "std       20.642189\n",
       "min        6.960793\n",
       "25%       34.398441\n",
       "50%       51.960634\n",
       "75%       62.163238\n",
       "max      138.733665\n",
       "Name: Mossville_PA_AQI, dtype: float64"
      ]
     },
     "execution_count": 122,
     "metadata": {},
     "output_type": "execute_result"
    }
   ],
   "source": [
    "df_a['Mossville_PA_AQI'].describe()"
   ]
  },
  {
   "cell_type": "markdown",
   "id": "322da00a-5e41-46a2-9c1b-306b57742fd7",
   "metadata": {},
   "source": [
    "# HW4 005"
   ]
  },
  {
   "cell_type": "code",
   "execution_count": 125,
   "id": "33e8de55-14b3-4a58-924f-d9d1873e317b",
   "metadata": {},
   "outputs": [],
   "source": [
    "import pandas as pd"
   ]
  },
  {
   "cell_type": "code",
   "execution_count": 127,
   "id": "16d6f37f-bed7-4011-8e02-6872babdc31f",
   "metadata": {},
   "outputs": [],
   "source": [
    "## LOAD THE PA AQI MEANS\n",
    "df_a = pd.read_csv(\"data/mossville_pa_hmeans_aqi.csv\").set_index(\"time_stamp\")\n",
    "df_a.index = pd.to_datetime(df_a.index)\n",
    "df_a.index = df_a.index.tz_convert(None)\n",
    "df_a.columns = [\"Mossville_PA_PM2.5\", \"Mossville_PA_AQI\"]\n",
    "\n",
    "\n",
    "## LOAD THE FORECASTED DATA\n",
    "df_b = pd.read_csv(\"data/mossville_ldeq_cc_forecast_archives.csv\", index_col=0)\n",
    "df_b.index = pd.to_datetime(df_b.index)\n",
    "\n",
    "## MERGE THE DATA\n",
    "df = df_b.merge(df_a, left_index=True, right_index=True)[['Lake Charles', 'Mossville_PA_AQI']]\n",
    "\n",
    "\n",
    "## COMPUTE DELTAS COLUMN\n",
    "df['PA_Forecast_Delta'] = df['Lake Charles'] - df['Mossville_PA_AQI']\n",
    "df.index = df.index.date"
   ]
  },
  {
   "cell_type": "code",
   "execution_count": 129,
   "id": "7ff66c3f-8d82-4299-9208-6386c62c6c32",
   "metadata": {},
   "outputs": [
    {
     "data": {
      "text/plain": [
       "<Axes: >"
      ]
     },
     "execution_count": 129,
     "metadata": {},
     "output_type": "execute_result"
    },
    {
     "data": {
      "image/png": "[encoded data removed]",
      "text/plain": [
       "<Figure size 640x480 with 1 Axes>"
      ]
     },
     "metadata": {},
     "output_type": "display_data"
    }
   ],
   "source": [
    "df[['Lake Charles', 'Mossville_PA_AQI']] \\\n",
    "    .plot(kind=\"bar\", rot=90)"
   ]
  },
  {
   "cell_type": "markdown",
   "id": "920edcaa-8d68-47e4-b1a4-c4616e529d1a",
   "metadata": {},
   "source": [
    "# Answer 1: Explanation of the Plot\n",
    "\n",
    "The plot generated by the code displays a bar chart that compares two variables Lake Charles Forecasted AQI\n",
    "Represented on the y-axis and Mossville Purple Air AQI\n",
    "\n",
    "Time is represented on the x-axis with each bar corresponding to a specific date shown in a 90 degree angle for clarity. The dates elucidate the intersection of the data from both datasets.\n",
    "\n",
    "Further Observations:\n",
    "\n",
    "Each date has two bars which are one for the Lake Charles forecast and one for the Mossville PA AQI.\n",
    "The heights of these bars represent the respective AQI values.\n",
    "\n",
    "The relative heights of the bars indicate how closely the forecasted AQI for Lake Charles aligns with the observed AQI in Mossville and any significant discrepancies between the two are immediately visible as large differences in bar heights for the same date.\n",
    "\n",
    "The bar chart helps in visually analyzing both the accuracy of the Lake Charles AQI forecast when compared to the Mossville PurpleAir AQI and trends over time where one dataset consistently underestimates or overestimates AQI values relative to the other."
   ]
  },
  {
   "cell_type": "code",
   "execution_count": null,
   "id": "c39c977a-aaab-45ef-9314-cd6cf5e82916",
   "metadata": {},
   "outputs": [],
   "source": []
  }
 ],
 "metadata": {
  "kernelspec": {
   "display_name": "Python 3 (ipykernel)",
   "language": "python",
   "name": "python3"
  },
  "language_info": {
   "codemirror_mode": {
    "name": "ipython",
    "version": 3
   },
   "file_extension": ".py",
   "mimetype": "text/x-python",
   "name": "python",
   "nbconvert_exporter": "python",
   "pygments_lexer": "ipython3",
   "version": "3.12.4"
  }
 },
 "nbformat": 4,
 "nbformat_minor": 5
}
